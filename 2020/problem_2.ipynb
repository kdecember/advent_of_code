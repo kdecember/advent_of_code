{
 "cells": [
  {
   "cell_type": "markdown",
   "metadata": {},
   "source": [
    "## Problem 2: Part A\n",
    "<style>\n",
    "    .boxBorder {\n",
    "     border: 2px solid #990066;\n",
    "     padding: 10px;\n",
    "     outline: #990066 solid 5px;\n",
    "     outline-offset: 5px;\n",
    "   }\n",
    "    </style>\n",
    "    \n",
    "<div class=\"boxBorder\">\n",
    "\n",
    "Your flight departs in a few days from the coastal airport; the easiest way down to the coast from here is via toboggan.\n",
    "\n",
    "The shopkeeper at the North Pole Toboggan Rental Shop is having a bad day. \"Something's wrong with our computers; we can't log in!\" You ask if you can take a look.\n",
    "\n",
    "Their password database seems to be a little corrupted: some of the passwords wouldn't have been allowed by the Official Toboggan Corporate Policy that was in effect when they were chosen.\n",
    "\n",
    "To try to debug the problem, they have created a list (your puzzle input) of passwords (according to the corrupted database) and the corporate policy when that password was set.\n",
    "\n",
    "For example, suppose you have the following list:\n",
    "\n",
    "1-3 a: abcde <br />\n",
    "1-3 b: cdefg <br />\n",
    "2-9 c: ccccccccc <br />\n",
    "    \n",
    "Each line gives the password policy and then the password. The password policy indicates the lowest and highest number of times a given letter must appear for the password to be valid. For example, 1-3 a means that the password must contain a at least 1 time and at most 3 times.\n",
    "\n",
    "In the above example, 2 passwords are valid. The middle password, cdefg, is not; it contains no instances of b, but needs at least 1. The first and third passwords are valid: they contain one a or nine c, both within the limits of their respective policies.\n",
    "\n",
    "How many passwords are valid according to their policies?\n",
    "</div>"
   ]
  },
  {
   "cell_type": "code",
   "execution_count": 1,
   "metadata": {},
   "outputs": [],
   "source": [
    "import pandas as pd\n",
    "import numpy as np\n",
    "import matplotlib as mpl"
   ]
  },
  {
   "cell_type": "code",
   "execution_count": null,
   "metadata": {},
   "outputs": [],
   "source": [
    "values = pd.read_excel('data/problem_2_values.xlsx')"
   ]
  },
  {
   "cell_type": "code",
   "execution_count": null,
   "metadata": {},
   "outputs": [],
   "source": [
    "values"
   ]
  },
  {
   "cell_type": "code",
   "execution_count": null,
   "metadata": {},
   "outputs": [],
   "source": [
    "listed_values = list(values['Values'])"
   ]
  },
  {
   "cell_type": "code",
   "execution_count": null,
   "metadata": {},
   "outputs": [],
   "source": [
    "listed_values[0]"
   ]
  },
  {
   "cell_type": "code",
   "execution_count": null,
   "metadata": {},
   "outputs": [],
   "source": [
    "type(listed_values[0])"
   ]
  },
  {
   "cell_type": "code",
   "execution_count": null,
   "metadata": {},
   "outputs": [],
   "source": [
    "print(listed_values[0].split())"
   ]
  },
  {
   "cell_type": "code",
   "execution_count": null,
   "metadata": {},
   "outputs": [],
   "source": [
    "list(range(17,20))"
   ]
  },
  {
   "cell_type": "code",
   "execution_count": null,
   "metadata": {},
   "outputs": [],
   "source": [
    "listed_values"
   ]
  },
  {
   "cell_type": "code",
   "execution_count": null,
   "metadata": {},
   "outputs": [],
   "source": [
    "split_listed_values = []\n",
    "for i in listed_values:\n",
    "    split_listed_values.append(i.split())"
   ]
  },
  {
   "cell_type": "code",
   "execution_count": null,
   "metadata": {},
   "outputs": [],
   "source": [
    "split_listed_values[0]"
   ]
  },
  {
   "cell_type": "code",
   "execution_count": null,
   "metadata": {},
   "outputs": [],
   "source": [
    "replace_test = split_listed_values[0][0].replace('-', ' ')"
   ]
  },
  {
   "cell_type": "code",
   "execution_count": null,
   "metadata": {},
   "outputs": [],
   "source": [
    "replace_test"
   ]
  },
  {
   "cell_type": "code",
   "execution_count": null,
   "metadata": {},
   "outputs": [],
   "source": [
    "split_replace_test = replace_test.split()"
   ]
  },
  {
   "cell_type": "code",
   "execution_count": null,
   "metadata": {},
   "outputs": [],
   "source": [
    "split_replace_test"
   ]
  },
  {
   "cell_type": "code",
   "execution_count": null,
   "metadata": {},
   "outputs": [],
   "source": [
    "[int(x) for x in split_replace_test]"
   ]
  },
  {
   "cell_type": "code",
   "execution_count": null,
   "metadata": {},
   "outputs": [],
   "source": [
    "split_listed_values[0][0] = [int(x) for x in split_listed_values[0][0].replace('-', ' ').split()]"
   ]
  },
  {
   "cell_type": "code",
   "execution_count": null,
   "metadata": {},
   "outputs": [],
   "source": [
    "split_listed_values[0][0]"
   ]
  },
  {
   "cell_type": "code",
   "execution_count": null,
   "metadata": {},
   "outputs": [],
   "source": [
    "range(split_listed_values[0][0][0], split_listed_values[0][0][1] + 1)"
   ]
  },
  {
   "cell_type": "code",
   "execution_count": null,
   "metadata": {},
   "outputs": [],
   "source": [
    "list(range(split_listed_values[0][0][0], split_listed_values[0][0][1] + 1))"
   ]
  },
  {
   "cell_type": "code",
   "execution_count": null,
   "metadata": {},
   "outputs": [],
   "source": [
    "split_listed_values[0][1] = split_listed_values[0][1].replace(':', '')"
   ]
  },
  {
   "cell_type": "code",
   "execution_count": null,
   "metadata": {},
   "outputs": [],
   "source": [
    "split_listed_values[0][1]"
   ]
  },
  {
   "cell_type": "code",
   "execution_count": null,
   "metadata": {},
   "outputs": [],
   "source": [
    "split_listed_values[0][2]"
   ]
  },
  {
   "cell_type": "code",
   "execution_count": null,
   "metadata": {},
   "outputs": [],
   "source": [
    "split_listed_values[0][2].count(split_listed_values[0][1])"
   ]
  },
  {
   "cell_type": "code",
   "execution_count": null,
   "metadata": {},
   "outputs": [],
   "source": [
    "split_listed_values[0][2].count(split_listed_values[0][1]) in range(split_listed_values[0][0][0], split_listed_values[0][0][1] + 1)"
   ]
  },
  {
   "cell_type": "code",
   "execution_count": null,
   "metadata": {},
   "outputs": [],
   "source": [
    "len(split_listed_values)"
   ]
  },
  {
   "cell_type": "code",
   "execution_count": null,
   "metadata": {},
   "outputs": [],
   "source": [
    "range(len(split_listed_values))"
   ]
  },
  {
   "cell_type": "code",
   "execution_count": null,
   "metadata": {},
   "outputs": [],
   "source": []
  },
  {
   "cell_type": "code",
   "execution_count": null,
   "metadata": {},
   "outputs": [],
   "source": []
  },
  {
   "cell_type": "code",
   "execution_count": null,
   "metadata": {},
   "outputs": [],
   "source": []
  },
  {
   "cell_type": "code",
   "execution_count": null,
   "metadata": {},
   "outputs": [],
   "source": []
  },
  {
   "cell_type": "code",
   "execution_count": 2,
   "metadata": {},
   "outputs": [],
   "source": [
    "def do_preprocess(relative_doc_location, sheet_name=None):\n",
    "    values = pd.read_excel(relative_doc_location, sheet_name=sheet_name)\n",
    "\n",
    "    split_listed_values = []\n",
    "    for i in list(values['Values']):\n",
    "            split_listed_values.append(i.split())\n",
    "    \n",
    "    for i in range(len(split_listed_values)):\n",
    "        split_listed_values[i][0] = [int(x) for x in split_listed_values[i][0].replace('-', ' ').split()]\n",
    "        \n",
    "    for i in range(len(split_listed_values)):\n",
    "        split_listed_values[i][1] = split_listed_values[i][1].replace(':', '')\n",
    "    return split_listed_values"
   ]
  },
  {
   "cell_type": "code",
   "execution_count": null,
   "metadata": {},
   "outputs": [],
   "source": [
    "do_preprocess('data/problem_2_values.xlsx', 'Sheet2')"
   ]
  },
  {
   "cell_type": "code",
   "execution_count": 8,
   "metadata": {},
   "outputs": [],
   "source": [
    "def do_test(data):\n",
    "    counter = 0\n",
    "    valids = []\n",
    "    invalids = []\n",
    "    for i in range(len(data)):\n",
    "        if data[i][2].count(data[i][1]) in range(data[i][0][0], data[i][0][1] + 1):\n",
    "            valids.append(data[i])\n",
    "            counter = counter + 1\n",
    "        else:\n",
    "            invalids.append(data[i])\n",
    "    \n",
    "    return valids, invalids"
   ]
  },
  {
   "cell_type": "code",
   "execution_count": 4,
   "metadata": {},
   "outputs": [],
   "source": [
    "valids, invalids = do_test(do_preprocess('data/problem_2_values.xlsx', 'Sheet1'))"
   ]
  },
  {
   "cell_type": "code",
   "execution_count": 5,
   "metadata": {},
   "outputs": [
    {
     "data": {
      "text/plain": [
       "(620, 380, 1000)"
      ]
     },
     "execution_count": 5,
     "metadata": {},
     "output_type": "execute_result"
    }
   ],
   "source": [
    "len(valids), len(invalids), len(do_preprocess('data/problem_2_values.xlsx', 'Sheet1'))"
   ]
  },
  {
   "cell_type": "code",
   "execution_count": 6,
   "metadata": {},
   "outputs": [
    {
     "name": "stdout",
     "output_type": "stream",
     "text": [
      "Answer = 620\n"
     ]
    }
   ],
   "source": [
    "print(f'Answer = {len(valids)}')"
   ]
  },
  {
   "cell_type": "code",
   "execution_count": null,
   "metadata": {},
   "outputs": [],
   "source": []
  },
  {
   "cell_type": "markdown",
   "metadata": {},
   "source": [
    "## Problem 2: Part B\n",
    "<style>\n",
    "    .boxBorder {\n",
    "     border: 2px solid #990066;\n",
    "     padding: 10px;\n",
    "     outline: #990066 solid 5px;\n",
    "     outline-offset: 5px;\n",
    "   }\n",
    "    </style>\n",
    "    \n",
    "<div class=\"boxBorder\">\n",
    "\n",
    "While it appears you validated the passwords correctly, they don't seem to be what the Official Toboggan Corporate Authentication System is expecting.\n",
    "\n",
    "The shopkeeper suddenly realizes that he just accidentally explained the password policy rules from his old job at the sled rental place down the street! The Official Toboggan Corporate Policy actually works a little differently.\n",
    "\n",
    "Each policy actually describes two positions in the password, where 1 means the first character, 2 means the second character, and so on. (Be careful; Toboggan Corporate Policies have no concept of \"index zero\"!) Exactly one of these positions must contain the given letter. Other occurrences of the letter are irrelevant for the purposes of policy enforcement.\n",
    "\n",
    "Given the same example list from above:\n",
    "\n",
    "1-3 a: abcde is valid: position 1 contains a and position 3 does not. <br />\n",
    "1-3 b: cdefg is invalid: neither position 1 nor position 3 contains b.<br />\n",
    "2-9 c: ccccccccc is invalid: both position 2 and position 9 contain c.<br />\n",
    "How many passwords are valid according to the new interpretation of the policies?\n",
    "</div>"
   ]
  },
  {
   "cell_type": "code",
   "execution_count": 9,
   "metadata": {},
   "outputs": [],
   "source": [
    "def do_test(data):\n",
    "    counter = 0\n",
    "    valids = []\n",
    "    invalids = []\n",
    "    for i in range(len(data)):\n",
    "        if data[i][2].count(data[i][1]) in range(data[i][0][0], data[i][0][1] + 1):\n",
    "            valids.append(data[i])\n",
    "            counter = counter + 1\n",
    "        else:\n",
    "            invalids.append(data[i])\n",
    "    \n",
    "    return valids, invalids"
   ]
  },
  {
   "cell_type": "code",
   "execution_count": 21,
   "metadata": {},
   "outputs": [],
   "source": [
    "def do_test_2(data):\n",
    "    counter = 0\n",
    "    valids = []\n",
    "    invalids = []\n",
    "    for i in range(len(data)):\n",
    "        index_1 = data[i][0][0] - 1\n",
    "        index_2 = data[i][0][1] - 1\n",
    "        string = data[i][2]\n",
    "        if list(string)[index_1] == data[i][1]:\n",
    "            valids.append(data[i])\n",
    "            counter = counter + 1\n",
    "        elif list(string)[index_2] == data[i][1]:\n",
    "            valids.append(data[i])\n",
    "            counter = counter + 1\n",
    "        else:\n",
    "            invalids.append(data[i])\n",
    "    \n",
    "    return valids, invalids"
   ]
  },
  {
   "cell_type": "code",
   "execution_count": 22,
   "metadata": {},
   "outputs": [],
   "source": [
    "valids_2, invalids_2 = do_test_2(do_preprocess('data/problem_2_values.xlsx', 'Sheet1'))"
   ]
  },
  {
   "cell_type": "code",
   "execution_count": 23,
   "metadata": {},
   "outputs": [
    {
     "data": {
      "text/plain": [
       "867"
      ]
     },
     "execution_count": 23,
     "metadata": {},
     "output_type": "execute_result"
    }
   ],
   "source": [
    "len(valids_2)"
   ]
  },
  {
   "cell_type": "code",
   "execution_count": null,
   "metadata": {},
   "outputs": [],
   "source": []
  }
 ],
 "metadata": {
  "kernelspec": {
   "display_name": "ml",
   "language": "python",
   "name": "ml"
  },
  "language_info": {
   "codemirror_mode": {
    "name": "ipython",
    "version": 3
   },
   "file_extension": ".py",
   "mimetype": "text/x-python",
   "name": "python",
   "nbconvert_exporter": "python",
   "pygments_lexer": "ipython3",
   "version": "3.8.5"
  }
 },
 "nbformat": 4,
 "nbformat_minor": 4
}
