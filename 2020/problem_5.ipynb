{
 "cells": [
  {
   "cell_type": "markdown",
   "metadata": {},
   "source": [
    "--- Day 5: Binary Boarding ---\n",
    "You board your plane only to discover a new problem: you dropped your boarding pass! You aren't sure which seat is yours, and all of the flight attendants are busy with the flood of people that suddenly made it through passport control.\n",
    "\n",
    "You write a quick program to use your phone's camera to scan all of the nearby boarding passes (your puzzle input); perhaps you can find your seat through process of elimination.\n",
    "\n",
    "Instead of zones or groups, this airline uses binary space partitioning to seat people. A seat might be specified like FBFBBFFRLR, where F means \"front\", B means \"back\", L means \"left\", and R means \"right\".\n",
    "\n",
    "The first 7 characters will either be F or B; these specify exactly one of the 128 rows on the plane (numbered 0 through 127). Each letter tells you which half of a region the given seat is in. Start with the whole list of rows; the first letter indicates whether the seat is in the front (0 through 63) or the back (64 through 127). The next letter indicates which half of that region the seat is in, and so on until you're left with exactly one row.\n",
    "\n",
    "For example, consider just the first seven characters of FBFBBFFRLR:\n",
    "\n",
    "Start by considering the whole range, rows 0 through 127. <br />\n",
    "F means to take the lower half, keeping rows 0 through 63.<br />\n",
    "B means to take the upper half, keeping rows 32 through 63.<br />\n",
    "F means to take the lower half, keeping rows 32 through 47.<br />\n",
    "B means to take the upper half, keeping rows 40 through 47.<br />\n",
    "B keeps rows 44 through 47.<br />\n",
    "F keeps rows 44 through 45.<br />\n",
    "The final F keeps the lower of the two, row 44.<br />\n",
    "\n",
    "The last three characters will be either L or R; these specify exactly one of the 8 columns of seats on the plane (numbered 0 through 7). The same process as above proceeds again, this time with only three steps. L means to keep the lower half, while R means to keep the upper half.\n",
    "\n",
    "For example, consider just the last 3 characters of FBFBBFFRLR:<br />\n",
    "\n",
    "Start by considering the whole range, columns 0 through 7.<br />\n",
    "R means to take the upper half, keeping columns 4 through 7.<br />\n",
    "L means to take the lower half, keeping columns 4 through 5.<br />\n",
    "The final R keeps the upper of the two, column 5.<br />\n",
    "So, decoding FBFBBFFRLR reveals that it is the seat at row 44, column 5.<br />\n",
    "\n",
    "Every seat also has a unique seat ID: multiply the row by 8, then add the column. In this example, the seat has ID 44 * 8 + 5 = 357.\n",
    "\n",
    "Here are some other boarding passes:\n",
    "\n",
    "BFFFBBFRRR: row 70, column 7, seat ID 567.<br />\n",
    "FFFBBBFRRR: row 14, column 7, seat ID 119.<br />\n",
    "BBFFBBFRLL: row 102, column 4, seat ID 820.<br />\n",
    "\n",
    "As a sanity check, look through your list of boarding passes. What is the highest seat ID on a boarding pass?"
   ]
  },
  {
   "cell_type": "code",
   "execution_count": 1,
   "metadata": {},
   "outputs": [],
   "source": [
    "data = open('data/problem_5_values.txt', 'r')\n",
    "data = data.read()\n",
    "data = data.split('\\n')\n",
    "del data[-1] #deletes the blank space left over in the end of the list"
   ]
  },
  {
   "cell_type": "code",
   "execution_count": 2,
   "metadata": {},
   "outputs": [
    {
     "data": {
      "text/plain": [
       "872"
      ]
     },
     "execution_count": 2,
     "metadata": {},
     "output_type": "execute_result"
    }
   ],
   "source": [
    "len(data)"
   ]
  },
  {
   "cell_type": "code",
   "execution_count": 3,
   "metadata": {},
   "outputs": [],
   "source": [
    "total_rows = 128"
   ]
  },
  {
   "cell_type": "code",
   "execution_count": 4,
   "metadata": {},
   "outputs": [
    {
     "data": {
      "text/plain": [
       "127"
      ]
     },
     "execution_count": 4,
     "metadata": {},
     "output_type": "execute_result"
    }
   ],
   "source": [
    "range(128)[-1]"
   ]
  },
  {
   "cell_type": "code",
   "execution_count": 5,
   "metadata": {},
   "outputs": [
    {
     "data": {
      "text/plain": [
       "'BFFFFFFLLR'"
      ]
     },
     "execution_count": 5,
     "metadata": {},
     "output_type": "execute_result"
    }
   ],
   "source": [
    "data[0]"
   ]
  },
  {
   "cell_type": "code",
   "execution_count": 6,
   "metadata": {},
   "outputs": [
    {
     "data": {
      "text/plain": [
       "('BFFFFFF', 'LLR')"
      ]
     },
     "execution_count": 6,
     "metadata": {},
     "output_type": "execute_result"
    }
   ],
   "source": [
    "data[0][:-3], data[0][-3:]"
   ]
  },
  {
   "cell_type": "code",
   "execution_count": 7,
   "metadata": {},
   "outputs": [],
   "source": [
    "seat_range = range(128)\n",
    "ticket_rows = data[0][:-3]\n",
    "\n",
    "def determine_row(letter, seat_range):\n",
    "\n",
    "    if (len(seat_range)== 2) & (letter == 'B'):\n",
    "        return seat_range[-1] #not altered by adding 1 because we want to return the actual value of that row, \n",
    "                              #rather than an int used in determing the value of the next range to INCLUDE that row\n",
    "    elif (len(seat_range) == 2) & (letter == 'F'):\n",
    "        return seat_range[0]\n",
    "    \n",
    "    elif letter == 'B':\n",
    "        return range(seat_range[0] + int((len(seat_range) /2)), seat_range[-1] + 1)\n",
    "    else:\n",
    "        return range(seat_range[0], seat_range[0] + int((len(seat_range) /2)))"
   ]
  },
  {
   "cell_type": "code",
   "execution_count": 8,
   "metadata": {},
   "outputs": [
    {
     "name": "stdout",
     "output_type": "stream",
     "text": [
      "range(0, 128)\n",
      "range(64, 128)\n",
      "range(64, 96)\n",
      "range(64, 80)\n",
      "range(64, 72)\n",
      "range(64, 68)\n",
      "range(64, 66)\n"
     ]
    }
   ],
   "source": [
    "seat_range = range(128)\n",
    "ticket_rows = data[0][:-3]\n",
    "\n",
    "for letter in ticket_rows:\n",
    "    print(seat_range)\n",
    "    seat_range = determine_row(letter, seat_range)"
   ]
  },
  {
   "cell_type": "code",
   "execution_count": 9,
   "metadata": {},
   "outputs": [
    {
     "name": "stdout",
     "output_type": "stream",
     "text": [
      "FBBFFFFLRL\n",
      "range(0, 128)\n",
      "range(0, 64)\n",
      "range(32, 64)\n",
      "range(48, 64)\n",
      "range(48, 56)\n",
      "range(48, 52)\n",
      "range(48, 50)\n",
      "48\n"
     ]
    }
   ],
   "source": [
    "ticket_rows2 = data[1][:-3]\n",
    "seat_range = range(128)\n",
    "\n",
    "print (data[1])\n",
    "print (seat_range)\n",
    "for letter in ticket_rows2:\n",
    "    seat_range = determine_row(letter, seat_range)\n",
    "    print(seat_range)"
   ]
  },
  {
   "cell_type": "code",
   "execution_count": 11,
   "metadata": {},
   "outputs": [
    {
     "name": "stdout",
     "output_type": "stream",
     "text": [
      "FBFBBFF\n",
      "range(0, 128)\n",
      "range(0, 64) : this includes rows 0 through 63\n",
      "range(32, 64) : this includes rows 32 through 63\n",
      "range(32, 48) : this includes rows 32 through 47\n",
      "range(40, 48) : this includes rows 40 through 47\n",
      "range(44, 48) : this includes rows 44 through 47\n",
      "range(44, 46) : this includes rows 44 through 45\n",
      "44 this is the final determined row\n"
     ]
    }
   ],
   "source": [
    "ticket_rows3 = 'FBFBBFF'\n",
    "seat_range = range(128)\n",
    "\n",
    "print (ticket_rows3)\n",
    "print (seat_range)\n",
    "for letter in ticket_rows3:\n",
    "    seat_range = determine_row(letter, seat_range)\n",
    "    if type(seat_range) == range:\n",
    "        print(seat_range, \": this includes rows\", seat_range[0], \"through\", seat_range[-1])\n",
    "    else:\n",
    "        print(seat_range, \"this is the final determined row\")"
   ]
  },
  {
   "cell_type": "code",
   "execution_count": 12,
   "metadata": {},
   "outputs": [],
   "source": [
    "test = range(128)"
   ]
  },
  {
   "cell_type": "code",
   "execution_count": 37,
   "metadata": {},
   "outputs": [
    {
     "data": {
      "text/plain": [
       "(64, 127, 128)"
      ]
     },
     "execution_count": 37,
     "metadata": {},
     "output_type": "execute_result"
    }
   ],
   "source": [
    "range(64, 128)[0], range(64, 128)[-1], range(64, 128)[-1] + 1"
   ]
  },
  {
   "cell_type": "code",
   "execution_count": 41,
   "metadata": {},
   "outputs": [
    {
     "data": {
      "text/plain": [
       "range(3, 72)"
      ]
     },
     "execution_count": 41,
     "metadata": {},
     "output_type": "execute_result"
    }
   ],
   "source": [
    "x, y = 3, 72\n",
    "\n",
    "range(x,y)"
   ]
  },
  {
   "cell_type": "code",
   "execution_count": null,
   "metadata": {},
   "outputs": [],
   "source": []
  }
 ],
 "metadata": {
  "kernelspec": {
   "display_name": "ml",
   "language": "python",
   "name": "ml"
  },
  "language_info": {
   "codemirror_mode": {
    "name": "ipython",
    "version": 3
   },
   "file_extension": ".py",
   "mimetype": "text/x-python",
   "name": "python",
   "nbconvert_exporter": "python",
   "pygments_lexer": "ipython3",
   "version": "3.8.5"
  }
 },
 "nbformat": 4,
 "nbformat_minor": 4
}
