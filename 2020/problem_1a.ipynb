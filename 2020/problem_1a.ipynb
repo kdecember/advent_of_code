{
 "cells": [
  {
   "cell_type": "markdown",
   "metadata": {},
   "source": [
    "# Problem #1 <br />\n",
    "### --- Day 1: Report Repair ---\n",
    "\n",
    "<style>\n",
    "    .boxBorder {\n",
    "     border: 2px solid #990066;\n",
    "     padding: 10px;\n",
    "     outline: #990066 solid 5px;\n",
    "     outline-offset: 5px;\n",
    "   }\n",
    "    </style>\n",
    "    \n",
    "<div class=\"boxBorder\">\n",
    "\n",
    "After saving Christmas five years in a row, you've decided to take a vacation at a nice resort on a tropical island. Surely, Christmas will go on without you.\n",
    "\n",
    "The tropical island has its own currency and is entirely cash-only. The gold coins used there have a little picture of a starfish; the locals just call them stars. None of the currency exchanges seem to have heard of them, but somehow, you'll need to find fifty of these coins by the time you arrive so you can pay the deposit on your room.\n",
    "\n",
    "To save your vacation, you need to get all fifty stars by December 25th.\n",
    "\n",
    "Collect stars by solving puzzles. Two puzzles will be made available on each day in the Advent calendar; the second puzzle is unlocked when you complete the first. Each puzzle grants one star. Good luck!\n",
    "\n",
    "Before you leave, the Elves in accounting just need you to fix your expense report (your puzzle input); apparently, something isn't quite adding up.\n",
    "\n",
    "Specifically, they need you to find the two entries that sum to 2020 and then multiply those two numbers together.\n",
    "\n",
    "For example, suppose your expense report contained the following:\n",
    "\n",
    "1721 <br/>\n",
    "979 <br/>\n",
    "366 <br/>\n",
    "299 <br/>\n",
    "675 <br/>\n",
    "1456 <br/>\n",
    "\n",
    "In this list, the two entries that sum to 2020 are 1721 and 299. Multiplying them together produces 1721 * 299 = 514579, so the correct answer is 514579.\n",
    "\n",
    "Of course, your expense report is much larger. Find the two entries that sum to 2020; what do you get if you multiply them together?\n",
    "</div>"
   ]
  },
  {
   "cell_type": "code",
   "execution_count": 1,
   "metadata": {},
   "outputs": [],
   "source": [
    "import numpy as np\n",
    "import pandas as pd"
   ]
  },
  {
   "cell_type": "code",
   "execution_count": 2,
   "metadata": {},
   "outputs": [],
   "source": [
    "values = pd.read_excel('data/problem_1_values.xlsx')"
   ]
  },
  {
   "cell_type": "code",
   "execution_count": 7,
   "metadata": {},
   "outputs": [
    {
     "data": {
      "text/html": [
       "<div>\n",
       "<style scoped>\n",
       "    .dataframe tbody tr th:only-of-type {\n",
       "        vertical-align: middle;\n",
       "    }\n",
       "\n",
       "    .dataframe tbody tr th {\n",
       "        vertical-align: top;\n",
       "    }\n",
       "\n",
       "    .dataframe thead th {\n",
       "        text-align: right;\n",
       "    }\n",
       "</style>\n",
       "<table border=\"1\" class=\"dataframe\">\n",
       "  <thead>\n",
       "    <tr style=\"text-align: right;\">\n",
       "      <th></th>\n",
       "      <th>Values</th>\n",
       "    </tr>\n",
       "  </thead>\n",
       "  <tbody>\n",
       "    <tr>\n",
       "      <th>0</th>\n",
       "      <td>2004</td>\n",
       "    </tr>\n",
       "    <tr>\n",
       "      <th>1</th>\n",
       "      <td>1671</td>\n",
       "    </tr>\n",
       "    <tr>\n",
       "      <th>2</th>\n",
       "      <td>1678</td>\n",
       "    </tr>\n",
       "    <tr>\n",
       "      <th>3</th>\n",
       "      <td>1304</td>\n",
       "    </tr>\n",
       "    <tr>\n",
       "      <th>4</th>\n",
       "      <td>1242</td>\n",
       "    </tr>\n",
       "    <tr>\n",
       "      <th>...</th>\n",
       "      <td>...</td>\n",
       "    </tr>\n",
       "    <tr>\n",
       "      <th>195</th>\n",
       "      <td>1231</td>\n",
       "    </tr>\n",
       "    <tr>\n",
       "      <th>196</th>\n",
       "      <td>1310</td>\n",
       "    </tr>\n",
       "    <tr>\n",
       "      <th>197</th>\n",
       "      <td>1754</td>\n",
       "    </tr>\n",
       "    <tr>\n",
       "      <th>198</th>\n",
       "      <td>1569</td>\n",
       "    </tr>\n",
       "    <tr>\n",
       "      <th>199</th>\n",
       "      <td>1532</td>\n",
       "    </tr>\n",
       "  </tbody>\n",
       "</table>\n",
       "<p>200 rows × 1 columns</p>\n",
       "</div>"
      ],
      "text/plain": [
       "     Values\n",
       "0      2004\n",
       "1      1671\n",
       "2      1678\n",
       "3      1304\n",
       "4      1242\n",
       "..      ...\n",
       "195    1231\n",
       "196    1310\n",
       "197    1754\n",
       "198    1569\n",
       "199    1532\n",
       "\n",
       "[200 rows x 1 columns]"
      ]
     },
     "execution_count": 7,
     "metadata": {},
     "output_type": "execute_result"
    }
   ],
   "source": [
    "values"
   ]
  },
  {
   "cell_type": "code",
   "execution_count": 6,
   "metadata": {},
   "outputs": [
    {
     "data": {
      "text/plain": [
       "pandas.core.frame.DataFrame"
      ]
     },
     "execution_count": 6,
     "metadata": {},
     "output_type": "execute_result"
    }
   ],
   "source": [
    "type(values)"
   ]
  },
  {
   "cell_type": "code",
   "execution_count": 8,
   "metadata": {},
   "outputs": [],
   "source": [
    "values = values['Values'].to_numpy()"
   ]
  },
  {
   "cell_type": "code",
   "execution_count": 9,
   "metadata": {},
   "outputs": [
    {
     "data": {
      "text/plain": [
       "array([2004, 1671, 1678, 1304, 1242, 1882, 1605, 1034, 1883, 1589, 1881,\n",
       "       1546, 1713, 1218, 1982, 1395, 1277, 1417, 1497, 1499, 1847, 1989,\n",
       "       1172, 1684, 1243, 1843, 1661, 1662, 1421, 1790, 1344, 1458, 1074,\n",
       "       1809, 1990, 1369, 1386, 1736, 1972, 1634, 1229, 1123, 1870, 1595,\n",
       "       1934, 1399, 1732, 1545, 1208,  368, 1907, 1143,  443, 1929, 1965,\n",
       "       1872, 1738, 1967,  997, 1473, 1041, 1991, 1868, 1180, 1409, 1379,\n",
       "       1568, 1163, 1869, 1391, 1956, 1249, 1505,  351, 2001,  462, 1219,\n",
       "       1731, 1802, 1798, 1626, 1438, 1099, 1477, 1980, 1708, 1666, 1066,\n",
       "       1121, 1359, 1426, 1734, 1768, 1836, 1453,  923, 1660, 1878, 1522,\n",
       "       1024, 1429,  232, 1952, 1730, 1763, 1981, 1388, 1337, 1317, 1922,\n",
       "       1044, 1999, 1341, 1178, 1524, 1185, 1257, 1256, 1061, 1262, 1022,\n",
       "       1778, 1917, 1205, 1272, 1842, 1533, 1194, 1746, 1691, 1617, 1667,\n",
       "       1940, 1171, 1792, 1773, 1411, 1902, 1859, 1978, 1764, 1482, 1276,\n",
       "        735, 1716, 1915, 1675, 1126, 1830, 1227, 1299, 1535, 1700, 1658,\n",
       "       1771, 1823, 1055, 1602, 1590, 1983, 1885, 1735,  103, 1766,   14,\n",
       "       1486, 1939, 1525, 1916, 1279,  544, 1406, 1674, 1948, 1971, 1651,\n",
       "       1715, 1943, 1784, 2008, 1800, 1720, 1557, 1467, 1371, 1637, 1345,\n",
       "       1924, 1565, 1976, 1827, 1890, 1848, 1465, 1573, 1231, 1310, 1754,\n",
       "       1569, 1532], dtype=int64)"
      ]
     },
     "execution_count": 9,
     "metadata": {},
     "output_type": "execute_result"
    }
   ],
   "source": [
    "values"
   ]
  },
  {
   "cell_type": "code",
   "execution_count": 12,
   "metadata": {},
   "outputs": [
    {
     "name": "stdout",
     "output_type": "stream",
     "text": [
      "197451\n",
      "197451\n"
     ]
    }
   ],
   "source": [
    "# quick and ugly, gives accurate answer, but duplicates the output\n",
    "\n",
    "for i in values:\n",
    "    for n in values:\n",
    "        if i + n == 2020:\n",
    "            print(i * n)"
   ]
  },
  {
   "cell_type": "code",
   "execution_count": null,
   "metadata": {},
   "outputs": [],
   "source": []
  }
 ],
 "metadata": {
  "kernelspec": {
   "display_name": "ml",
   "language": "python",
   "name": "ml"
  },
  "language_info": {
   "codemirror_mode": {
    "name": "ipython",
    "version": 3
   },
   "file_extension": ".py",
   "mimetype": "text/x-python",
   "name": "python",
   "nbconvert_exporter": "python",
   "pygments_lexer": "ipython3",
   "version": "3.8.5"
  }
 },
 "nbformat": 4,
 "nbformat_minor": 4
}
