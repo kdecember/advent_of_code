{
 "cells": [
  {
   "cell_type": "markdown",
   "metadata": {},
   "source": [
    "## Problem 3: Part A\n",
    "\n",
    "--- Day 3: Toboggan Trajectory --- <br />\n",
    "\n",
    "With the toboggan login problems resolved, you set off toward the airport. While travel by toboggan might be easy, it's certainly not safe: there's very minimal steering and the area is covered in trees. You'll need to see which angles will take you near the fewest trees.\n",
    "\n",
    "Due to the local geology, trees in this area only grow on exact integer coordinates in a grid. You make a map (your puzzle input) of the open squares (.) and trees (#) you can see. For example:\n",
    "\n",
    "![](data/images/problem_3_a.jpg)\n",
    "\n",
    "These aren't the only trees, though; due to something you read about once involving arboreal genetics and biome stability, the same pattern repeats to the right many times:  \n",
    "    \n",
    "![](data/images/problem_3_b.jpg)\n",
    "    \n",
    "You start on the open square (.) in the top-left corner and need to reach the bottom (below the bottom-most row on your map).\n",
    "\n",
    "\n",
    "The toboggan can only follow a few specific slopes (you opted for a cheaper model that prefers rational numbers); start by counting all the trees you would encounter for the slope right 3, down 1:\n",
    "\n",
    "\n",
    "From your starting position at the top-left, check the position that is right 3 and down 1. Then, check the position that is right 3 and down 1 from there, and so on until you go past the bottom of the map.\n",
    "\n",
    "\n",
    "The locations you'd check in the above example are marked here with O where there was an open square and X where there was a tree:\n",
    "\n",
    "![](data/images/problem_3_c.jpg)\n",
    "\n",
    "In this example, traversing the map using this slope would cause you to encounter 7 trees.\n",
    "\n",
    "Starting at the top-left corner of your map and following a slope of right 3 and down 1, how many trees would you encounter?\n",
    "\n"
   ]
  },
  {
   "cell_type": "code",
   "execution_count": 1,
   "metadata": {},
   "outputs": [],
   "source": [
    "import pandas as pd\n",
    "import numpy as np"
   ]
  },
  {
   "cell_type": "code",
   "execution_count": 2,
   "metadata": {},
   "outputs": [],
   "source": [
    "data = pd.read_excel('data/problem_3_values.xlsx', dtype='string')"
   ]
  },
  {
   "cell_type": "code",
   "execution_count": 3,
   "metadata": {},
   "outputs": [
    {
     "data": {
      "text/plain": [
       "'.##.............##......#.....#'"
      ]
     },
     "execution_count": 3,
     "metadata": {},
     "output_type": "execute_result"
    }
   ],
   "source": [
    "data['Values'][0]"
   ]
  },
  {
   "cell_type": "code",
   "execution_count": 4,
   "metadata": {},
   "outputs": [
    {
     "data": {
      "text/plain": [
       "'0110000000000000110000001000001'"
      ]
     },
     "execution_count": 4,
     "metadata": {},
     "output_type": "execute_result"
    }
   ],
   "source": [
    "data['Values'][0].replace('.', '0').replace('#', '1')"
   ]
  },
  {
   "cell_type": "code",
   "execution_count": 5,
   "metadata": {},
   "outputs": [],
   "source": [
    "test_list = list(data['Values'][0].replace('.', '0').replace('#', '1'))"
   ]
  },
  {
   "cell_type": "code",
   "execution_count": 6,
   "metadata": {},
   "outputs": [],
   "source": [
    "for i in test_list:\n",
    "    i = int(i)"
   ]
  },
  {
   "cell_type": "code",
   "execution_count": 7,
   "metadata": {},
   "outputs": [],
   "source": [
    "int_list = [int(x) for x in test_list]"
   ]
  },
  {
   "cell_type": "code",
   "execution_count": 8,
   "metadata": {
    "collapsed": true,
    "jupyter": {
     "outputs_hidden": true
    }
   },
   "outputs": [
    {
     "data": {
      "text/plain": [
       "[0,\n",
       " 1,\n",
       " 1,\n",
       " 0,\n",
       " 0,\n",
       " 0,\n",
       " 0,\n",
       " 0,\n",
       " 0,\n",
       " 0,\n",
       " 0,\n",
       " 0,\n",
       " 0,\n",
       " 0,\n",
       " 0,\n",
       " 0,\n",
       " 1,\n",
       " 1,\n",
       " 0,\n",
       " 0,\n",
       " 0,\n",
       " 0,\n",
       " 0,\n",
       " 0,\n",
       " 1,\n",
       " 0,\n",
       " 0,\n",
       " 0,\n",
       " 0,\n",
       " 0,\n",
       " 1]"
      ]
     },
     "execution_count": 8,
     "metadata": {},
     "output_type": "execute_result"
    }
   ],
   "source": [
    "int_list"
   ]
  },
  {
   "cell_type": "code",
   "execution_count": 9,
   "metadata": {},
   "outputs": [
    {
     "name": "stdout",
     "output_type": "stream",
     "text": [
      "0      .##.............##......#.....#\n",
      "1      .#.#................#..........\n",
      "2      ...#..#.##..#.#......#.#.#.#..#\n",
      "3      ..#......#........#..#..#.#.#..\n",
      "4      .......#....#..#..#.......#....\n",
      "                    ...               \n",
      "318    ..#.#....#..#.................#\n",
      "319    ........#..##..#.....#....#.##.\n",
      "320    ...#.#..#..#..#..............##\n",
      "321    .##.......###.#......#....#..##\n",
      "322    ..##.##.#......#....#..#...#..#\n",
      "Name: Values, Length: 323, dtype: string\n"
     ]
    }
   ],
   "source": [
    "print(data['Values'])"
   ]
  },
  {
   "cell_type": "code",
   "execution_count": 49,
   "metadata": {},
   "outputs": [
    {
     "data": {
      "text/plain": [
       "8"
      ]
     },
     "execution_count": 49,
     "metadata": {},
     "output_type": "execute_result"
    }
   ],
   "source": [
    "39 % len(data['Values'][0]) "
   ]
  },
  {
   "cell_type": "code",
   "execution_count": 61,
   "metadata": {},
   "outputs": [],
   "source": []
  },
  {
   "cell_type": "code",
   "execution_count": 209,
   "metadata": {},
   "outputs": [],
   "source": [
    "def count_trees(x_rate, y_rate, start_pos, df):\n",
    "    \n",
    "    \n",
    "    trees = 0\n",
    "    x_corr = start_pos[0]\n",
    "    \n",
    "    for i in df['Values'].iloc[1:]:\n",
    "        \n",
    "        x_corr += x_rate\n",
    "        remainder = x_corr % len(i)\n",
    "        \n",
    "        if x_corr > len(i):\n",
    "            if (remainder == 0):\n",
    "                if i[0] == '#':\n",
    "                    trees += 1\n",
    "            else:\n",
    "                if i[remainder] == '#':\n",
    "                    trees += 1\n",
    "        else:\n",
    "            if i[x_corr] == '#':\n",
    "                trees += 1\n",
    "    return trees"
   ]
  },
  {
   "cell_type": "code",
   "execution_count": 210,
   "metadata": {},
   "outputs": [],
   "source": [
    "x_rate = 3\n",
    "y_rate = 1\n",
    "start_pos = (0,0)\n",
    "data = pd.read_excel('data/problem_3_values.xlsx', dtype='string')"
   ]
  },
  {
   "cell_type": "code",
   "execution_count": 211,
   "metadata": {},
   "outputs": [
    {
     "data": {
      "text/plain": [
       "176"
      ]
     },
     "execution_count": 211,
     "metadata": {},
     "output_type": "execute_result"
    }
   ],
   "source": [
    "count_trees(x_rate,y_rate,start_pos,data)"
   ]
  },
  {
   "cell_type": "markdown",
   "metadata": {},
   "source": [
    "### Incorrect Answers ###\n",
    "\n",
    "81  \n",
    "88  \n",
    "78  \n",
    "84  \n",
    "85  \n"
   ]
  },
  {
   "cell_type": "code",
   "execution_count": 202,
   "metadata": {},
   "outputs": [],
   "source": [
    "def count_trees2(x_rate, y_rate, start_pos, df):\n",
    "    \n",
    "    \n",
    "    trees = 0\n",
    "    x_corr = start_pos[0]\n",
    "    \n",
    "    for i in df['Values'].iloc[1:]:\n",
    "        \n",
    "        x_corr += x_rate\n",
    "        x_loc = x_corr % len(i)\n",
    "        \n",
    "        if i[x_loc] == '#':\n",
    "                trees += 1\n",
    "                \n",
    "    return trees "
   ]
  },
  {
   "cell_type": "code",
   "execution_count": 203,
   "metadata": {},
   "outputs": [
    {
     "data": {
      "text/plain": [
       "176"
      ]
     },
     "execution_count": 203,
     "metadata": {},
     "output_type": "execute_result"
    }
   ],
   "source": [
    "count_trees2(x_rate,y_rate,start_pos,data)"
   ]
  },
  {
   "cell_type": "code",
   "execution_count": 205,
   "metadata": {},
   "outputs": [
    {
     "name": "stdout",
     "output_type": "stream",
     "text": [
      "176 IS THE CORRECT ANSWER!!!\n"
     ]
    }
   ],
   "source": [
    "print (count_trees2(x_rate,y_rate,start_pos,data), 'IS THE CORRECT ANSWER!!!')"
   ]
  },
  {
   "cell_type": "code",
   "execution_count": null,
   "metadata": {},
   "outputs": [],
   "source": []
  }
 ],
 "metadata": {
  "kernelspec": {
   "display_name": "ml",
   "language": "python",
   "name": "ml"
  },
  "language_info": {
   "codemirror_mode": {
    "name": "ipython",
    "version": 3
   },
   "file_extension": ".py",
   "mimetype": "text/x-python",
   "name": "python",
   "nbconvert_exporter": "python",
   "pygments_lexer": "ipython3",
   "version": "3.8.5"
  }
 },
 "nbformat": 4,
 "nbformat_minor": 4
}
