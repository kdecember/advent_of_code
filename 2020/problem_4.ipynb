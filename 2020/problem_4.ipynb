{
 "cells": [
  {
   "cell_type": "markdown",
   "metadata": {},
   "source": [
    "## Problem 4: Part A\n",
    "\n",
    "You arrive at the airport only to realize that you grabbed your North Pole Credentials instead of your passport. While these documents are extremely similar, North Pole Credentials aren't issued by a country and therefore aren't actually valid documentation for travel in most of the world.\n",
    "\n",
    "It seems like you're not the only one having problems, though; a very long line has formed for the automatic passport scanners, and the delay could upset your travel itinerary.\n",
    "\n",
    "Due to some questionable network security, you realize you might be able to solve both of these problems at the same time.\n",
    "\n",
    "The automatic passport scanners are slow because they're having trouble detecting which passports have all required fields. The expected fields are as follows:\n",
    "\n",
    "byr (Birth Year) <br />\n",
    "iyr (Issue Year)<br />\n",
    "eyr (Expiration Year)<br />\n",
    "hgt (Height)<br />\n",
    "hcl (Hair Color)<br />\n",
    "ecl (Eye Color)<br />\n",
    "pid (Passport ID)<br />\n",
    "cid (Country ID)<br />\n",
    "\n",
    "Passport data is validated in batch files (your puzzle input). Each passport is represented as a sequence of key:value pairs separated by spaces or newlines. Passports are separated by blank lines.\n",
    "\n",
    "Here is an example batch file containing four passports:\n",
    "\n",
    "ecl:gry pid:860033327 eyr:2020 hcl:#fffffd\n",
    "byr:1937 iyr:2017 cid:147 hgt:183cm\n",
    "\n",
    "iyr:2013 ecl:amb cid:350 eyr:2023 pid:028048884\n",
    "hcl:#cfa07d byr:1929\n",
    "\n",
    "hcl:#ae17e1 iyr:2013\n",
    "eyr:2024\n",
    "ecl:brn pid:760753108 byr:1931\n",
    "hgt:179cm\n",
    "\n",
    "hcl:#cfa07d eyr:2025 pid:166559648\n",
    "iyr:2011 ecl:brn hgt:59in <br />\n",
    "\n",
    "The first passport is valid - all eight fields are present. The second passport is invalid - it is missing hgt (the Height field).\n",
    "\n",
    "The third passport is interesting; the only missing field is cid, so it looks like data from North Pole Credentials, not a passport at all! Surely, nobody would mind if you made the system temporarily ignore missing cid fields. Treat this \"passport\" as valid.\n",
    "\n",
    "The fourth passport is missing two fields, cid and byr. Missing cid is fine, but missing any other field is not, so this passport is invalid.\n",
    "\n",
    "According to the above rules, your improved system would report 2 valid passports.\n",
    "\n",
    "Count the number of valid passports - those that have all required fields. Treat cid as optional. In your batch file, how many passports are valid?"
   ]
  },
  {
   "cell_type": "code",
   "execution_count": 1,
   "metadata": {},
   "outputs": [],
   "source": [
    "import pandas as pd\n",
    "import numpy as np"
   ]
  },
  {
   "cell_type": "code",
   "execution_count": 2,
   "metadata": {},
   "outputs": [],
   "source": [
    "data = open('data/problem_4_values.txt', 'r')\n",
    "data = data.read()\n",
    "data = data.split('\\n\\n')\n",
    "data = [i.replace('\\n', ' ') for i in data]"
   ]
  },
  {
   "cell_type": "code",
   "execution_count": 3,
   "metadata": {},
   "outputs": [],
   "source": [
    "required_fields = ['iyr', 'pid', 'eyr', 'hcl', 'ecl', 'byr', 'hgt']"
   ]
  },
  {
   "cell_type": "code",
   "execution_count": 26,
   "metadata": {},
   "outputs": [],
   "source": [
    "valids = 0\n",
    "has_fields = []\n",
    "\n",
    "for passport in data:\n",
    "    if all((field in passport) for field in required_fields):\n",
    "        valids += 1\n",
    "        has_fields.append(passport)"
   ]
  },
  {
   "cell_type": "code",
   "execution_count": 27,
   "metadata": {},
   "outputs": [
    {
     "data": {
      "text/plain": [
       "190"
      ]
     },
     "execution_count": 27,
     "metadata": {},
     "output_type": "execute_result"
    }
   ],
   "source": [
    "valids"
   ]
  },
  {
   "cell_type": "code",
   "execution_count": 28,
   "metadata": {},
   "outputs": [
    {
     "name": "stdout",
     "output_type": "stream",
     "text": [
      "the correct answer is  190 !!!\n"
     ]
    }
   ],
   "source": [
    "print ('the correct answer is ', valids, \"!!!\")"
   ]
  },
  {
   "cell_type": "markdown",
   "metadata": {},
   "source": [
    "## Problem 4: Part B\n",
    "\n",
    "The line is moving more quickly now, but you overhear airport security talking about how passports with invalid data are getting through. Better add some data validation, quick!\n",
    "\n",
    "You can continue to ignore the cid field, but each other field has strict rules about what values are valid for automatic validation:\n",
    "\n",
    "byr (Birth Year) - four digits; at least 1920 and at most 2002. <br />\n",
    "iyr (Issue Year) - four digits; at least 2010 and at most 2020.<br />\n",
    "eyr (Expiration Year) - four digits; at least 2020 and at most 2030.<br />\n",
    "hgt (Height) - a number followed by either cm or in:<br />\n",
    "If cm, the number must be at least 150 and at most 193.<br />\n",
    "If in, the number must be at least 59 and at most 76.<br />\n",
    "hcl (Hair Color) - a # followed by exactly six characters 0-9 or a-f.<br />\n",
    "ecl (Eye Color) - exactly one of: amb blu brn gry grn hzl oth.<br />\n",
    "pid (Passport ID) - a nine-digit number, including leading zeroes.<br />\n",
    "cid (Country ID) - ignored, missing or not.<br />\n",
    "\n",
    "Your job is to count the passports where all required fields are both present and valid according to the above rules. Here are some example values:\n",
    "\n",
    "![](data/images/problem_4_a.jpg) <br/>\n",
    "\n",
    "Here are some invalid passports:\n",
    "\n",
    "![](data/images/problem_4_b.jpg) <br />\n",
    "\n",
    "Here are some valid passports:\n",
    "\n",
    "![](data/images/problem_4_c.jpg) <br />\n",
    "\n",
    "Count the number of valid passports - those that have all required fields and valid values. Continue to treat cid as optional. In your batch file, how many passports are valid?"
   ]
  },
  {
   "cell_type": "markdown",
   "metadata": {},
   "source": [
    "### Rules summary\n",
    "\n",
    "byr (Birth Year) - four digits; at least 1920 and at most 2002. <br />\n",
    "iyr (Issue Year) - four digits; at least 2010 and at most 2020.<br />\n",
    "eyr (Expiration Year) - four digits; at least 2020 and at most 2030.<br />\n",
    "hgt (Height) - a number followed by either cm or in:<br />\n",
    "If cm, the number must be at least 150 and at most 193.<br />\n",
    "If in, the number must be at least 59 and at most 76.<br />\n",
    "hcl (Hair Color) - a # followed by exactly six characters 0-9 or a-f.<br />\n",
    "ecl (Eye Color) - exactly one of: amb blu brn gry grn hzl oth.<br />\n",
    "pid (Passport ID) - a nine-digit number, including leading zeroes.<br />\n",
    "cid (Country ID) - ignored, missing or not.<br />"
   ]
  },
  {
   "cell_type": "code",
   "execution_count": 7,
   "metadata": {},
   "outputs": [
    {
     "data": {
      "text/plain": [
       "'iyr:1928 cid:150 pid:476113241 eyr:2039 hcl:a5ac0f ecl:#25f8d2 byr:2027 hgt:190'"
      ]
     },
     "execution_count": 7,
     "metadata": {},
     "output_type": "execute_result"
    }
   ],
   "source": [
    "data[0]"
   ]
  },
  {
   "cell_type": "code",
   "execution_count": 25,
   "metadata": {},
   "outputs": [
    {
     "data": {
      "text/plain": [
       "['iyr:1928 cid:150 pid:476113241 eyr:2039 hcl:a5ac0f ecl:#25f8d2 byr:2027 hgt:190',\n",
       " 'hgt:168cm eyr:2026 ecl:hzl hcl:#fffffd cid:169 pid:920076943 byr:1929 iyr:2013',\n",
       " 'hgt:156cm ecl:brn eyr:2023 iyr:2011 hcl:#6b5442 pid:328412891 byr:1948',\n",
       " 'byr:1950 iyr:2019 eyr:2020 ecl:amb cid:279 pid:674907993 hgt:189cm hcl:#602927',\n",
       " 'byr:1976 ecl:hzl iyr:2015 hgt:178cm eyr:2022 hcl:#341e13 pid:473630095',\n",
       " 'iyr:2020 eyr:2023 ecl:blu byr:1984 hgt:163cm hcl:#866857 pid:628113926',\n",
       " 'ecl:amb pid:312508073 hgt:70in byr:1922 iyr:2019 eyr:2030 hcl:#866857',\n",
       " 'ecl:hzl byr:1982 hcl:#fffffd hgt:188cm iyr:2018 pid:039931872 cid:288 eyr:2025',\n",
       " 'cid:71 iyr:2012 byr:1950 hcl:#7d3b0c pid:803324747 eyr:2023 hgt:151cm ecl:oth',\n",
       " 'iyr:2013 ecl:grn eyr:2022 pid:053411982 byr:1946 cid:302 hcl:#60ca85 hgt:160cm',\n",
       " 'hgt:169cm eyr:2035 pid:023983645 iyr:2014 ecl:amb hcl:#c0946f byr:1975 cid:258',\n",
       " 'byr:1933 ecl:hzl hcl:#c0946f iyr:2013 pid:655452550 hgt:170cm eyr:2024',\n",
       " 'hgt:156 ecl:oth cid:235 pid:609823906 iyr:2016 eyr:2021 hcl:#6b5442 byr:1932',\n",
       " 'iyr:2006 hgt:103 ecl:#2d77e5 cid:214 byr:2018 hcl:6c53a4 pid:190cm eyr:1940',\n",
       " 'ecl:grn pid:497830156 byr:2002 eyr:2023 hgt:169cm iyr:2016 hcl:#733820',\n",
       " 'cid:94 ecl:hzl byr:1972 hcl:#7d3b0c iyr:2015 pid:219956257 eyr:2022 hgt:165cm',\n",
       " 'eyr:2022 hgt:180cm ecl:amb hcl:#c0946f pid:543330083 iyr:2014 cid:286 byr:1989',\n",
       " 'iyr:2020 hgt:192cm ecl:oth pid:651509606 byr:1965 eyr:2029 hcl:#b6652a',\n",
       " 'hgt:165cm eyr:2025 ecl:oth pid:844167324 byr:1950 iyr:2014 hcl:#a97842',\n",
       " 'hgt:159cm byr:1945 hcl:#6b5442 iyr:2027 eyr:2024 cid:94 ecl:brn pid:476551927',\n",
       " 'pid:479260033 hcl:#efcc98 iyr:2018 ecl:grn byr:1993 cid:92 hgt:165cm eyr:2027',\n",
       " 'iyr:2015 pid:106083602 hgt:168cm eyr:2025 ecl:gry byr:1996 cid:341 hcl:#fffffd',\n",
       " 'iyr:2010 hgt:192cm pid:247508683 ecl:#57a15d byr:1972 hcl:#602927 eyr:2024',\n",
       " 'ecl:blu byr:1934 hcl:#888785 iyr:2019 pid:905361316 eyr:2021 hgt:150cm',\n",
       " 'hgt:184cm hcl:#cfa07d cid:335 iyr:2018 byr:1995 ecl:grn eyr:2026 pid:435090537',\n",
       " 'ecl:gry pid:561021264 cid:178 byr:1980 iyr:2010 eyr:2028 hcl:#7d3b0c hgt:181cm',\n",
       " 'pid:177860177 ecl:blu hgt:154cm hcl:#cfa07d iyr:2015 eyr:2022 byr:1977',\n",
       " 'pid:992814815 eyr:2028 iyr:2017 hgt:181cm hcl:#cfa07d byr:1961 ecl:hzl',\n",
       " 'eyr:2025 hcl:#a97842 byr:1930 pid:468404395 iyr:2013 ecl:oth cid:220 hgt:170cm',\n",
       " 'cid:198 iyr:2018 hcl:#a97842 hgt:74in pid:279483949 eyr:2029 ecl:gry byr:1931',\n",
       " 'byr:2004 iyr:2021 pid:165cm ecl:#7e7d04 hcl:#18171d eyr:2035 hgt:61',\n",
       " 'ecl:#492a33 hgt:168cm iyr:2018 byr:2017 cid:293 pid:1764204298 hcl:#cfa07d eyr:2022',\n",
       " 'hcl:#866857 eyr:2026 cid:193 hgt:160cm byr:1970 iyr:2011 ecl:amb pid:895650554',\n",
       " 'eyr:2022 iyr:2018 hcl:#efcc98 cid:181 byr:2029 ecl:utc hgt:188cm pid:332630362',\n",
       " 'hcl:#efcc98 iyr:2011 pid:550968343 ecl:hzl byr:1924 eyr:2022 hgt:191cm cid:120',\n",
       " 'hgt:150cm ecl:grn hcl:8f3824 pid:735766540 eyr:2029 byr:2000 iyr:2015',\n",
       " 'hcl:z ecl:hzl byr:2003 hgt:118 eyr:2008 iyr:2022 pid:157cm',\n",
       " 'byr:1950 ecl:blu hgt:163cm pid:455597862 cid:302 eyr:2027 hcl:#341e13 iyr:2015',\n",
       " 'iyr:2015 ecl:oth eyr:2023 byr:1998 hcl:#ceb3a1 cid:136 pid:253146183 hgt:179cm',\n",
       " 'iyr:2018 hcl:#cfa07d cid:80 pid:347839572 byr:1946 eyr:2023 ecl:blu hgt:163cm',\n",
       " 'iyr:1969 cid:324 eyr:1927 ecl:lzr hcl:z byr:2030 hgt:172cm pid:#997235',\n",
       " 'iyr:2017 ecl:brn hgt:165cm pid:818623102 byr:1968 hcl:#fffffd eyr:2020',\n",
       " 'eyr:2023 byr:1966 ecl:blu cid:295 pid:347753668 hcl:#c0946f iyr:2010 hgt:163cm',\n",
       " 'hcl:#ceb3a1 pid:395843182 hgt:168cm eyr:2025 iyr:2014 byr:1991 ecl:gry cid:283',\n",
       " 'iyr:2011 byr:1928 pid:438089427 hgt:152cm ecl:hzl eyr:2022 cid:254 hcl:#866857',\n",
       " 'iyr:2015 hcl:#ceb3a1 ecl:lzr eyr:2022 hgt:173cm pid:1799325911 cid:210 byr:2018',\n",
       " 'iyr:2010 pid:121142355 eyr:2020 cid:302 hgt:158cm ecl:amb byr:1978 hcl:#623a2f',\n",
       " 'pid:110863702 hcl:#341e13 iyr:2017 byr:1942 hgt:175cm cid:277 eyr:2030 ecl:amb',\n",
       " 'hcl:#c0946f pid:473360783 byr:1986 hgt:159cm ecl:brn iyr:2011 eyr:2023',\n",
       " 'hcl:b9c0fd iyr:1996 hgt:83 byr:2029 pid:#449a30 ecl:grt eyr:1925',\n",
       " 'eyr:2023 ecl:amb byr:1942 iyr:2012 hcl:#b6652a hgt:156cm pid:398126488',\n",
       " 'ecl:oth hgt:150cm byr:1937 pid:927692980 iyr:2013 eyr:2023 hcl:#623a2f',\n",
       " 'pid:509492550 hgt:64cm eyr:2030 hcl:#b6652a byr:1986 iyr:1922 ecl:gry',\n",
       " 'hgt:165cm cid:248 hcl:#6b5442 eyr:2026 pid:703744314 byr:1921 iyr:2020 ecl:blu',\n",
       " 'byr:2001 pid:332016728 iyr:2018 cid:89 eyr:2031 hgt:155cm ecl:zzz hcl:#866857',\n",
       " 'ecl:grn hgt:61in iyr:1925 byr:1984 hcl:#733820 pid:216995428 eyr:1944',\n",
       " 'hgt:162cm hcl:2ee8db byr:2008 iyr:2003 pid:50279629 eyr:2030 ecl:grt',\n",
       " 'pid:939011546 byr:1945 hgt:70in hcl:#cfa07d eyr:2027 ecl:grn iyr:2015',\n",
       " 'hgt:179cm byr:1928 pid:933893768 hcl:#18171d ecl:gry iyr:2016 eyr:2027',\n",
       " 'hgt:158cm iyr:2017 ecl:brn byr:1935 eyr:2020 pid:331047535 cid:345 hcl:#888785',\n",
       " 'byr:2009 ecl:#893922 iyr:2020 hcl:a59633 hgt:170in eyr:1995 pid:28540793',\n",
       " 'byr:1955 hgt:68cm hcl:#67dac3 eyr:2031 pid:502641687 ecl:oth iyr:1922',\n",
       " 'pid:558076850 eyr:2030 hgt:192cm ecl:brn cid:296 byr:1954 hcl:#733820 iyr:2012',\n",
       " 'cid:272 eyr:2030 pid:044961585 hcl:#602927 byr:1990 hgt:173cm ecl:gry iyr:2018',\n",
       " 'byr:1958 iyr:2019 hgt:163cm eyr:2029 pid:384542472 hcl:819959 ecl:#866be8',\n",
       " 'pid:855195796 ecl:oth eyr:2030 hgt:163cm hcl:#341e13 byr:1978 iyr:2011 cid:206',\n",
       " 'ecl:brn eyr:2029 hcl:#fffffd iyr:2018 pid:065149883 byr:1938 hgt:178cm',\n",
       " 'eyr:2024 byr:1983 ecl:gry hgt:154cm iyr:2019 pid:#f331f5 hcl:#7d3b0c cid:315',\n",
       " 'ecl:brn pid:131551626 iyr:2013 eyr:2022 byr:1949 hgt:155cm hcl:#18171d',\n",
       " 'byr:1921 eyr:2025 iyr:2014 pid:719127279 ecl:brn hcl:#cfa07d cid:243 hgt:176cm',\n",
       " 'byr:1976 hgt:182cm ecl:gry pid:534666141 iyr:2019 eyr:2027 cid:197 hcl:#602927',\n",
       " 'byr:2015 pid:164cm hgt:90 eyr:2036 iyr:1947 hcl:b7b0e6 ecl:#fd96b3',\n",
       " 'eyr:2029 cid:264 pid:931433692 byr:1974 ecl:oth hcl:z hgt:67in iyr:2012',\n",
       " 'ecl:amb hgt:163cm pid:811866600 byr:1952 iyr:2019 hcl:#888785 cid:250 eyr:2027',\n",
       " 'byr:1953 hgt:190cm pid:156cm hcl:#7d3b0c eyr:2022 ecl:#1b0b35 iyr:2015',\n",
       " 'hcl:#623a2f pid:583448566 byr:1999 eyr:2026 hgt:179cm iyr:2015 ecl:gry cid:55',\n",
       " 'hgt:179cm iyr:2013 ecl:amb hcl:#95766f pid:620956072 byr:1997 eyr:2026',\n",
       " 'ecl:blu iyr:1924 pid:866797032 hgt:193cm cid:90 hcl:#fffffd eyr:1998 byr:1990',\n",
       " 'hcl:#733820 ecl:brn byr:1950 eyr:2028 hgt:155cm iyr:2017 pid:605542221',\n",
       " 'hgt:171cm iyr:2019 byr:1930 ecl:hzl eyr:2026 hcl:#a6ef22 pid:294449839',\n",
       " 'pid:480248391 hgt:150cm eyr:2027 cid:226 hcl:#cfa07d byr:1940 ecl:brn iyr:2018',\n",
       " 'hcl:z ecl:#769ca0 pid:180cm byr:1922 iyr:2026 eyr:2028 hgt:180cm',\n",
       " 'ecl:lzr byr:1967 pid:50313895 hcl:34441e hgt:158in iyr:2030 eyr:2039',\n",
       " 'iyr:2025 pid:2210753 byr:2010 hgt:173cm cid:208 eyr:2008 hcl:de66d6 ecl:grt',\n",
       " 'iyr:2018 eyr:2026 cid:289 byr:1992 hgt:170cm pid:856187601 ecl:gry hcl:#efcc98',\n",
       " 'cid:94 byr:1934 hgt:59in eyr:2022 hcl:#623a2f pid:573884719 iyr:2016 ecl:oth',\n",
       " 'pid:206185815 ecl:grn hcl:#cfa07d eyr:2027 iyr:2018 byr:1989 hgt:176cm',\n",
       " 'hgt:175cm byr:1999 pid:409477026 hcl:#cfa07d ecl:amb eyr:2021 iyr:2017 cid:75',\n",
       " 'byr:2018 cid:150 eyr:2033 pid:043853978 iyr:2017 hgt:61cm hcl:z ecl:#f19d87',\n",
       " 'pid:549507973 hgt:178cm byr:1929 ecl:oth iyr:2020 eyr:2025 hcl:#7d3b0c',\n",
       " 'iyr:2014 hgt:171cm ecl:blu byr:1999 hcl:#6b5442 pid:813505466 eyr:2029',\n",
       " 'ecl:zzz eyr:2034 byr:2022 pid:52407584 iyr:2016 hcl:#888785 hgt:176in',\n",
       " 'ecl:oth byr:1994 iyr:2018 hgt:64in pid:136896463 eyr:2022 hcl:#a97842',\n",
       " 'ecl:#535e3c hgt:84 eyr:1963 hcl:z iyr:1986 pid:187cm byr:2028 cid:258',\n",
       " 'iyr:2015 hgt:165cm ecl:gmt cid:116 hcl:z byr:1998 eyr:2021 pid:170cm',\n",
       " 'iyr:2023 hgt:178cm cid:109 pid:#6eca6e hcl:#7d3b0c eyr:1961 ecl:xry byr:2012',\n",
       " 'eyr:2025 ecl:grn pid:708755870 hgt:189cm hcl:#e23d5f iyr:2017 byr:1982',\n",
       " 'hgt:75cm byr:1983 iyr:2000 eyr:2007 cid:307 pid:227345093 ecl:#080923 hcl:#ceb3a1',\n",
       " 'hcl:#602927 ecl:oth hgt:158cm byr:1992 iyr:2012 pid:708206240 eyr:2026 cid:125',\n",
       " 'eyr:1920 pid:873476029 hgt:192cm byr:1971 ecl:gry iyr:2020 hcl:#f463f6',\n",
       " 'pid:295847270 hcl:#7d3b0c ecl:oth iyr:2015 byr:2000 hgt:181cm eyr:2025',\n",
       " 'hgt:189cm hcl:#18171d iyr:2013 pid:686835652 byr:1972 ecl:grn eyr:2029',\n",
       " 'iyr:2010 ecl:grn hgt:63cm eyr:2027 hcl:#602927 pid:240973955 byr:1984 cid:280',\n",
       " 'iyr:2018 pid:026680847 cid:117 hcl:#602927 hgt:67cm ecl:xry eyr:2030 byr:1989',\n",
       " 'byr:1933 ecl:hzl hgt:179cm pid:500053352 eyr:2020 hcl:#fffffd iyr:2014',\n",
       " 'hgt:153cm pid:523083973 ecl:brn iyr:2011 byr:2000 hcl:#cfa07d eyr:2020 cid:114',\n",
       " 'hcl:#efcc98 ecl:blu byr:1974 iyr:2019 hgt:165cm eyr:2020 pid:755433303',\n",
       " 'eyr:2022 ecl:amb byr:1927 iyr:2012 pid:409960222 hcl:#733820 hgt:169cm cid:336',\n",
       " 'byr:1974 hcl:#6b5442 pid:562222331 hgt:68in cid:319 ecl:grn iyr:2012 eyr:2028',\n",
       " 'cid:347 byr:1939 hgt:151cm eyr:2026 iyr:2010 hcl:#fffffd ecl:gry pid:562919031',\n",
       " 'hgt:171cm iyr:2010 pid:812511153 byr:1971 eyr:2026 ecl:hzl hcl:#6b5442',\n",
       " 'hgt:178cm ecl:gry cid:139 hcl:#341e13 pid:390510619 eyr:2026 iyr:2012 byr:1952',\n",
       " 'eyr:2025 pid:78761845 hcl:#866857 iyr:2019 hgt:173cm ecl:blu byr:1936',\n",
       " 'iyr:2015 eyr:2028 pid:069618718 hgt:190cm ecl:grn hcl:#888785 byr:1956 cid:68',\n",
       " 'cid:292 ecl:blu hcl:#602927 hgt:67in iyr:2011 byr:1990 eyr:2027 pid:298224903',\n",
       " 'hgt:159cm eyr:2029 pid:854089988 iyr:2018 ecl:gry byr:1962 hcl:#efcc98',\n",
       " 'ecl:grn byr:1964 eyr:2022 hgt:61in pid:202756433 hcl:#cfa07d cid:241 iyr:2015',\n",
       " 'hgt:68in byr:1973 hcl:#18171d ecl:hzl pid:701847555 eyr:2030 iyr:2019',\n",
       " 'eyr:2022 ecl:grn hgt:151cm iyr:2020 hcl:#83f878 byr:1982 pid:816902510',\n",
       " 'cid:130 hgt:187in eyr:2040 ecl:brn iyr:2020 hcl:z pid:7364218001 byr:1949',\n",
       " 'hgt:183cm eyr:2023 iyr:2019 byr:1946 pid:684966686 cid:307 ecl:brn hcl:#cfa07d',\n",
       " 'ecl:blu byr:1987 cid:167 iyr:2015 hgt:189cm pid:797675433 eyr:2024 hcl:#6b5442',\n",
       " 'iyr:2018 byr:1929 ecl:brn hgt:60in eyr:2024 pid:152cm hcl:#a97842',\n",
       " 'iyr:2020 eyr:2025 byr:1942 pid:007017276 ecl:oth hgt:170cm hcl:#ceb3a1 cid:104',\n",
       " 'iyr:2012 ecl:oth eyr:2020 byr:1965 hcl:#efcc98 hgt:173cm cid:102 pid:302599543',\n",
       " 'ecl:oth iyr:2013 eyr:2027 hgt:153cm cid:86 hcl:#602927 pid:568040159 byr:1926',\n",
       " 'ecl:lzr hgt:61in eyr:2025 pid:556812665 byr:1923 iyr:2019 hcl:e962ed',\n",
       " 'iyr:2019 eyr:2029 hcl:#866857 byr:1977 pid:115229656 hgt:193cm ecl:brn cid:350',\n",
       " 'hcl:z pid:#8d311d iyr:2023 hgt:71cm byr:1923 ecl:zzz eyr:2039',\n",
       " 'cid:66 hgt:165cm eyr:2027 iyr:2012 hcl:#b6652a ecl:amb pid:946987379 byr:1999',\n",
       " 'byr:2028 iyr:2013 ecl:#376cda eyr:1928 pid:#c135ce hcl:z hgt:185in',\n",
       " 'hcl:100344 iyr:1933 eyr:2023 hgt:71cm byr:2010 ecl:#6a8007 pid:90001213',\n",
       " 'hgt:161cm hcl:#efcc98 ecl:grn eyr:2028 iyr:2014 byr:1966 pid:769989459',\n",
       " 'ecl:blu hgt:186cm hcl:#c0946f pid:741255292 eyr:2022 byr:1996 iyr:2017',\n",
       " 'eyr:2027 byr:1923 hgt:170cm pid:754104917 iyr:2020 cid:135 hcl:#341e13 ecl:brn',\n",
       " 'ecl:grn hcl:#c0946f byr:2028 iyr:2016 pid:950191991 hgt:193cm cid:93 eyr:1935',\n",
       " 'ecl:brn hcl:#733820 eyr:2024 iyr:2017 pid:450063924 byr:2000 hgt:172cm',\n",
       " 'iyr:2008 cid:229 byr:2023 eyr:2022 hcl:#341e13 ecl:grn hgt:70in pid:104660281',\n",
       " 'eyr:2023 hgt:181cm cid:289 pid:828542447 iyr:2013 ecl:grn byr:1922 hcl:#866857',\n",
       " 'iyr:2030 pid:152cm cid:297 ecl:#75a512 hcl:z hgt:156in byr:2006 eyr:2035',\n",
       " 'cid:161 hcl:#b6652a iyr:2016 byr:1930 ecl:oth pid:000425745 hgt:167cm eyr:2022',\n",
       " 'hgt:160cm hcl:#89f1a0 eyr:2023 pid:867868252 byr:1976 iyr:2019 ecl:hzl',\n",
       " 'pid:306301971 ecl:#a145cc hcl:z iyr:2018 cid:325 eyr:2023 byr:1942 hgt:157cm',\n",
       " 'ecl:brn pid:771134604 hgt:160cm byr:1961 eyr:2020 iyr:2012 hcl:#6b5442',\n",
       " 'iyr:1922 ecl:gmt eyr:1963 pid:#d1a6f3 hcl:z byr:2015 hgt:153in',\n",
       " 'ecl:grn eyr:1980 pid:385212564 hcl:5b27f7 hgt:160cm iyr:2016 cid:171 byr:1990',\n",
       " 'iyr:2020 cid:212 pid:959667791 byr:2002 ecl:amb hgt:75in eyr:2026 hcl:#888785',\n",
       " 'byr:1926 hcl:#c0946f iyr:2010 hgt:155cm ecl:gry pid:475722917 eyr:2030',\n",
       " 'eyr:2025 ecl:grn byr:1980 iyr:2010 hgt:160cm hcl:#d03ef0 pid:474973131',\n",
       " 'iyr:2016 hgt:173cm eyr:2029 hcl:#888785 ecl:hzl byr:2001 cid:334 pid:291454183',\n",
       " 'iyr:2013 pid:909258239 byr:1970 ecl:utc eyr:2026 cid:312 hgt:158cm hcl:#18171d',\n",
       " 'ecl:grn byr:1941 pid:395943714 eyr:2027 hcl:#7d3b0c iyr:2011 hgt:158cm',\n",
       " 'ecl:amb hcl:#fffffd byr:1992 pid:266072435 eyr:2028 iyr:2020 hgt:161cm',\n",
       " 'byr:1979 iyr:2020 ecl:brn hcl:#6b5442 pid:492860333 hgt:168cm eyr:2030',\n",
       " 'ecl:hzl eyr:2029 iyr:2013 byr:1952 hgt:152cm pid:968064648 hcl:#6b5442',\n",
       " 'byr:1955 pid:947711080 cid:149 ecl:amb hgt:150cm hcl:#341e13 eyr:2022 iyr:2016',\n",
       " 'hgt:71cm ecl:#c6c47f byr:2028 iyr:1994 eyr:2030 pid:0684877002 cid:237 hcl:#341e13',\n",
       " 'hgt:176cm cid:346 iyr:2012 pid:322396589 ecl:gry eyr:2029 byr:1976 hcl:#888785',\n",
       " 'eyr:2021 iyr:2015 hcl:3a6401 byr:1997 ecl:blu pid:188cm hgt:166in',\n",
       " 'ecl:blu iyr:2010 byr:1984 hgt:183 pid:306571244 hcl:#623a2f eyr:2033 cid:113',\n",
       " 'ecl:#804adb byr:2004 hgt:181cm hcl:#623a2f eyr:2040 pid:#57e9d1 iyr:2028 cid:97',\n",
       " 'iyr:2015 pid:294753454 byr:1980 eyr:2020 hgt:76in ecl:oth hcl:#a97842',\n",
       " 'hcl:#a7a05c pid:0137262572 eyr:2023 cid:350 iyr:2015 ecl:#52d3fe hgt:190cm byr:2007',\n",
       " 'pid:826827136 eyr:2030 ecl:brn byr:1946 hcl:#a97842 iyr:2018 hgt:173in',\n",
       " 'pid:490847399 byr:1963 hgt:69in iyr:2011 ecl:gry eyr:2027 hcl:#e4f497 cid:87',\n",
       " 'iyr:2014 ecl:hzl hgt:159cm hcl:#c0946f eyr:2028 byr:1926 pid:007819051',\n",
       " 'hcl:#cfa07d pid:639664506 ecl:amb byr:1997 cid:137 iyr:2014 eyr:2030 hgt:67in',\n",
       " 'hgt:191in eyr:2025 cid:128 byr:2021 iyr:2015 hcl:5ed1ae ecl:lzr pid:406311551',\n",
       " 'hgt:169cm eyr:2028 ecl:oth iyr:2016 byr:1954 pid:662755630 hcl:#733820',\n",
       " 'eyr:2029 pid:664032828 hgt:185cm hcl:#fffffd byr:1991 ecl:grn iyr:2017',\n",
       " 'pid:240747543 hgt:190cm hcl:#18171d iyr:2013 eyr:2021 ecl:grn byr:1920',\n",
       " 'iyr:2020 ecl:lzr byr:2014 eyr:2027 pid:976290173 hcl:#efcc98 hgt:192in',\n",
       " 'pid:112431133 byr:1950 hgt:174cm iyr:2020 cid:118 hcl:#341e13 eyr:2023 ecl:amb',\n",
       " 'pid:034858755 hcl:#d93689 iyr:2012 eyr:2025 hgt:67cm ecl:brn byr:2027 cid:306',\n",
       " 'eyr:2024 hcl:#fffffd ecl:hzl hgt:188cm cid:199 byr:2015 pid:983962091 iyr:1937',\n",
       " 'hcl:#c0946f pid:899925634 eyr:2025 byr:2020 iyr:2016 ecl:grt hgt:173cm',\n",
       " 'hgt:59cm hcl:c5b2d7 byr:2008 iyr:2027 ecl:lzr pid:155cm eyr:2035',\n",
       " 'iyr:2014 eyr:2022 pid:850258746 hcl:#a97842 byr:2022 ecl:brn hgt:178cm',\n",
       " 'cid:214 iyr:2017 ecl:oth hcl:#866857 byr:1995 pid:793515973 hgt:193cm eyr:2023',\n",
       " 'hcl:#18171d iyr:2017 hgt:193cm cid:183 eyr:2025 pid:728034540 ecl:hzl byr:1969',\n",
       " 'eyr:2025 ecl:gry byr:2002 iyr:2019 hgt:174cm pid:603301922 hcl:#fffffd',\n",
       " 'byr:1969 hcl:#a97842 ecl:gry eyr:2027 pid:835656333 hgt:152cm cid:324 iyr:2014',\n",
       " 'pid:848442741 eyr:2030 hcl:#ceb3a1 byr:1984 iyr:2019 ecl:grn hgt:164cm',\n",
       " 'pid:375892516 hgt:187cm iyr:2010 eyr:2028 byr:1972 cid:272 ecl:blu hcl:#888785',\n",
       " 'hgt:181in ecl:grn eyr:2034 hcl:#7d3b0c byr:2018 pid:206240985 iyr:2015',\n",
       " 'hgt:177 eyr:1973 pid:83092851 cid:92 ecl:utc byr:2023 hcl:z iyr:1948',\n",
       " 'eyr:2029 pid:1655089174 ecl:grn hgt:158cm iyr:2011 hcl:#b6652a byr:1926 cid:158',\n",
       " 'hgt:171cm pid:533365287 byr:1957 hcl:#ceb3a1 iyr:2014 ecl:amb eyr:2020 cid:184',\n",
       " 'hcl:#b6652a pid:553897602 iyr:1929 ecl:grn cid:191 hgt:178cm byr:1991 eyr:2024',\n",
       " 'byr:1994 hgt:152cm pid:198152466 eyr:2022 ecl:hzl hcl:#4df239 iyr:2020']"
      ]
     },
     "execution_count": 25,
     "metadata": {},
     "output_type": "execute_result"
    }
   ],
   "source": [
    "has_fields"
   ]
  },
  {
   "cell_type": "code",
   "execution_count": 12,
   "metadata": {},
   "outputs": [],
   "source": [
    "dt = data[0].split(' ')"
   ]
  },
  {
   "cell_type": "code",
   "execution_count": 15,
   "metadata": {},
   "outputs": [],
   "source": [
    "dt = [x.replace(':', ' ').split(' ') for x in dt]"
   ]
  },
  {
   "cell_type": "code",
   "execution_count": 16,
   "metadata": {},
   "outputs": [
    {
     "data": {
      "text/plain": [
       "[['iyr', '1928'],\n",
       " ['cid', '150'],\n",
       " ['pid', '476113241'],\n",
       " ['eyr', '2039'],\n",
       " ['hcl', 'a5ac0f'],\n",
       " ['ecl', '#25f8d2'],\n",
       " ['byr', '2027'],\n",
       " ['hgt', '190']]"
      ]
     },
     "execution_count": 16,
     "metadata": {},
     "output_type": "execute_result"
    }
   ],
   "source": [
    "dt"
   ]
  },
  {
   "cell_type": "code",
   "execution_count": 18,
   "metadata": {},
   "outputs": [],
   "source": [
    "dt_dict = dict(dt)"
   ]
  },
  {
   "cell_type": "code",
   "execution_count": 20,
   "metadata": {},
   "outputs": [],
   "source": [
    "dt_dict['byr'] = int(dt_dict['byr'])"
   ]
  },
  {
   "cell_type": "code",
   "execution_count": 21,
   "metadata": {},
   "outputs": [
    {
     "data": {
      "text/plain": [
       "2027"
      ]
     },
     "execution_count": 21,
     "metadata": {},
     "output_type": "execute_result"
    }
   ],
   "source": [
    "dt_dict['byr']"
   ]
  },
  {
   "cell_type": "code",
   "execution_count": 7,
   "metadata": {},
   "outputs": [],
   "source": [
    "def byr_test(byr):\n",
    "    return (\n",
    "        (len(str(byr)) == 4) & # unnecessary because the 2nd condition guarantees only values with 4 digits will pass\n",
    "        (1920 <= byr <= 2002)\n",
    "    )"
   ]
  },
  {
   "cell_type": "code",
   "execution_count": 10,
   "metadata": {
    "jupyter": {
     "source_hidden": true
    }
   },
   "outputs": [],
   "source": [
    "def iyr_test(iyr):\n",
    "    return (\n",
    "        (len(str(iyr)) == 4) &\n",
    "        (2010 <= iyr <= 2020)\n",
    "    )"
   ]
  },
  {
   "cell_type": "code",
   "execution_count": 11,
   "metadata": {
    "jupyter": {
     "source_hidden": true
    }
   },
   "outputs": [],
   "source": [
    "def eyr_test(eyr):\n",
    "    return (\n",
    "        (len(str(eyr)) == 4)\n",
    "        (2020 <= eyr <= 2030)\n",
    "    )"
   ]
  },
  {
   "cell_type": "code",
   "execution_count": 83,
   "metadata": {
    "jupyter": {
     "source_hidden": true
    }
   },
   "outputs": [],
   "source": [
    "def hgt_test(hgt):\n",
    "    find_cm = hgt.find('cm')\n",
    "    find_in = hgt.find('in')\n",
    "    \n",
    "    if (find_cm == -1) & (find_in == -1):\n",
    "        return False\n",
    "    elif find_cm != -1:\n",
    "        try:\n",
    "            return (150 <= int(hgt[:find_cm]) <= 193)\n",
    "        except:\n",
    "            return False\n",
    "    else:\n",
    "        try:\n",
    "            return (59 <= int(hgt[:find_in]) <= 76)\n",
    "        except:\n",
    "            return False"
   ]
  },
  {
   "cell_type": "code",
   "execution_count": 133,
   "metadata": {
    "jupyter": {
     "source_hidden": true
    }
   },
   "outputs": [],
   "source": [
    "def hcl_test(hcl):\n",
    "    valid_chars = 'abcdef0123456789'\n",
    "    \n",
    "    if (hcl[0] == '#') & (len(hcl[1:]) == 6) & all((char in valid_chars) for char in hcl[1:]):\n",
    "        return True\n",
    "    else:\n",
    "        return False"
   ]
  },
  {
   "cell_type": "code",
   "execution_count": 137,
   "metadata": {
    "jupyter": {
     "source_hidden": true
    }
   },
   "outputs": [],
   "source": [
    "def ecl_test(ecl):\n",
    "    valids = list('amb blu brn gry grn hzl oth'.split(' '))\n",
    "    \n",
    "    for valid in valids:\n",
    "        if ecl == valid:\n",
    "            return True\n",
    "    return False"
   ]
  },
  {
   "cell_type": "code",
   "execution_count": 158,
   "metadata": {
    "jupyter": {
     "source_hidden": true
    }
   },
   "outputs": [],
   "source": [
    "def pid_test(pid):\n",
    "    \n",
    "    try:\n",
    "        int(pid)\n",
    "    except:\n",
    "        return False\n",
    "    else:\n",
    "        if len(str(pid)) == 9:\n",
    "            return True"
   ]
  }
 ],
 "metadata": {
  "kernelspec": {
   "display_name": "ml",
   "language": "python",
   "name": "ml"
  },
  "language_info": {
   "codemirror_mode": {
    "name": "ipython",
    "version": 3
   },
   "file_extension": ".py",
   "mimetype": "text/x-python",
   "name": "python",
   "nbconvert_exporter": "python",
   "pygments_lexer": "ipython3",
   "version": "3.8.5"
  }
 },
 "nbformat": 4,
 "nbformat_minor": 4
}
