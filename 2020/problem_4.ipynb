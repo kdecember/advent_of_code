{
 "cells": [
  {
   "cell_type": "markdown",
   "metadata": {},
   "source": [
    "## Problem 4: Part A\n",
    "\n",
    "You arrive at the airport only to realize that you grabbed your North Pole Credentials instead of your passport. While these documents are extremely similar, North Pole Credentials aren't issued by a country and therefore aren't actually valid documentation for travel in most of the world.\n",
    "\n",
    "It seems like you're not the only one having problems, though; a very long line has formed for the automatic passport scanners, and the delay could upset your travel itinerary.\n",
    "\n",
    "Due to some questionable network security, you realize you might be able to solve both of these problems at the same time.\n",
    "\n",
    "The automatic passport scanners are slow because they're having trouble detecting which passports have all required fields. The expected fields are as follows:\n",
    "\n",
    "byr (Birth Year) <br />\n",
    "iyr (Issue Year)<br />\n",
    "eyr (Expiration Year)<br />\n",
    "hgt (Height)<br />\n",
    "hcl (Hair Color)<br />\n",
    "ecl (Eye Color)<br />\n",
    "pid (Passport ID)<br />\n",
    "cid (Country ID)<br />\n",
    "\n",
    "Passport data is validated in batch files (your puzzle input). Each passport is represented as a sequence of key:value pairs separated by spaces or newlines. Passports are separated by blank lines.\n",
    "\n",
    "Here is an example batch file containing four passports:\n",
    "\n",
    "ecl:gry pid:860033327 eyr:2020 hcl:#fffffd\n",
    "byr:1937 iyr:2017 cid:147 hgt:183cm\n",
    "\n",
    "iyr:2013 ecl:amb cid:350 eyr:2023 pid:028048884\n",
    "hcl:#cfa07d byr:1929\n",
    "\n",
    "hcl:#ae17e1 iyr:2013\n",
    "eyr:2024\n",
    "ecl:brn pid:760753108 byr:1931\n",
    "hgt:179cm\n",
    "\n",
    "hcl:#cfa07d eyr:2025 pid:166559648\n",
    "iyr:2011 ecl:brn hgt:59in <br />\n",
    "\n",
    "The first passport is valid - all eight fields are present. The second passport is invalid - it is missing hgt (the Height field).\n",
    "\n",
    "The third passport is interesting; the only missing field is cid, so it looks like data from North Pole Credentials, not a passport at all! Surely, nobody would mind if you made the system temporarily ignore missing cid fields. Treat this \"passport\" as valid.\n",
    "\n",
    "The fourth passport is missing two fields, cid and byr. Missing cid is fine, but missing any other field is not, so this passport is invalid.\n",
    "\n",
    "According to the above rules, your improved system would report 2 valid passports.\n",
    "\n",
    "Count the number of valid passports - those that have all required fields. Treat cid as optional. In your batch file, how many passports are valid?"
   ]
  },
  {
   "cell_type": "code",
   "execution_count": 1,
   "metadata": {},
   "outputs": [],
   "source": [
    "import pandas as pd\n",
    "import numpy as np"
   ]
  },
  {
   "cell_type": "code",
   "execution_count": 2,
   "metadata": {},
   "outputs": [],
   "source": [
    "data = open('data/problem_4_values.txt', 'r')\n",
    "data = data.read()\n",
    "data = data.split('\\n\\n')\n",
    "data = [i.replace('\\n', ' ') for i in data]"
   ]
  },
  {
   "cell_type": "code",
   "execution_count": 3,
   "metadata": {},
   "outputs": [],
   "source": [
    "required_fields = ['iyr', 'pid', 'eyr', 'hcl', 'ecl', 'byr', 'hgt']"
   ]
  },
  {
   "cell_type": "code",
   "execution_count": 4,
   "metadata": {},
   "outputs": [],
   "source": [
    "valids = 0\n",
    "\n",
    "for passport in data:\n",
    "    if all((field in passport) for field in required_fields):\n",
    "        valids += 1"
   ]
  },
  {
   "cell_type": "code",
   "execution_count": 5,
   "metadata": {},
   "outputs": [
    {
     "data": {
      "text/plain": [
       "190"
      ]
     },
     "execution_count": 5,
     "metadata": {},
     "output_type": "execute_result"
    }
   ],
   "source": [
    "valids"
   ]
  },
  {
   "cell_type": "code",
   "execution_count": 6,
   "metadata": {},
   "outputs": [
    {
     "name": "stdout",
     "output_type": "stream",
     "text": [
      "the correct answer is  190 !!!\n"
     ]
    }
   ],
   "source": [
    "print ('the correct answer is ', valids, \"!!!\")"
   ]
  },
  {
   "cell_type": "markdown",
   "metadata": {},
   "source": [
    "## Problem 4: Part B\n",
    "\n",
    "The line is moving more quickly now, but you overhear airport security talking about how passports with invalid data are getting through. Better add some data validation, quick!\n",
    "\n",
    "You can continue to ignore the cid field, but each other field has strict rules about what values are valid for automatic validation:\n",
    "\n",
    "byr (Birth Year) - four digits; at least 1920 and at most 2002. <br />\n",
    "iyr (Issue Year) - four digits; at least 2010 and at most 2020.<br />\n",
    "eyr (Expiration Year) - four digits; at least 2020 and at most 2030.<br />\n",
    "hgt (Height) - a number followed by either cm or in:<br />\n",
    "If cm, the number must be at least 150 and at most 193.<br />\n",
    "If in, the number must be at least 59 and at most 76.<br />\n",
    "hcl (Hair Color) - a # followed by exactly six characters 0-9 or a-f.<br />\n",
    "ecl (Eye Color) - exactly one of: amb blu brn gry grn hzl oth.<br />\n",
    "pid (Passport ID) - a nine-digit number, including leading zeroes.<br />\n",
    "cid (Country ID) - ignored, missing or not.<br />\n",
    "\n",
    "Your job is to count the passports where all required fields are both present and valid according to the above rules. Here are some example values:\n",
    "\n",
    "![](data/images/problem_4_a.jpg) <br/>\n",
    "\n",
    "Here are some invalid passports:\n",
    "\n",
    "![](data/images/problem_4_b.jpg) <br />\n",
    "\n",
    "Here are some valid passports:\n",
    "\n",
    "![](data/images/problem_4_c.jpg) <br />\n",
    "\n",
    "Count the number of valid passports - those that have all required fields and valid values. Continue to treat cid as optional. In your batch file, how many passports are valid?"
   ]
  },
  {
   "cell_type": "markdown",
   "metadata": {},
   "source": [
    "### Rules summary\n",
    "\n",
    "byr (Birth Year) - four digits; at least 1920 and at most 2002. <br />\n",
    "iyr (Issue Year) - four digits; at least 2010 and at most 2020.<br />\n",
    "eyr (Expiration Year) - four digits; at least 2020 and at most 2030.<br />\n",
    "hgt (Height) - a number followed by either cm or in:<br />\n",
    "If cm, the number must be at least 150 and at most 193.<br />\n",
    "If in, the number must be at least 59 and at most 76.<br />\n",
    "hcl (Hair Color) - a # followed by exactly six characters 0-9 or a-f.<br />\n",
    "ecl (Eye Color) - exactly one of: amb blu brn gry grn hzl oth.<br />\n",
    "pid (Passport ID) - a nine-digit number, including leading zeroes.<br />\n",
    "cid (Country ID) - ignored, missing or not.<br />"
   ]
  },
  {
   "cell_type": "code",
   "execution_count": 7,
   "metadata": {},
   "outputs": [],
   "source": [
    "def byr_test(byr):\n",
    "    return (\n",
    "        (len(str(byr)) == 4) & # unnecessary because the 2nd condition guarantees only values with 4 digits will pass\n",
    "        (1920 <= byr <= 2002)\n",
    "    )"
   ]
  },
  {
   "cell_type": "code",
   "execution_count": 10,
   "metadata": {},
   "outputs": [],
   "source": [
    "def iyr_test(iyr):\n",
    "    return (\n",
    "        (len(str(iyr)) == 4) &\n",
    "        (2010 <= iyr <= 2020)\n",
    "    )"
   ]
  },
  {
   "cell_type": "code",
   "execution_count": 11,
   "metadata": {},
   "outputs": [],
   "source": [
    "def eyr_test(eyr):\n",
    "    return (\n",
    "        (len(str(eyr)) == 4)\n",
    "        (2020 <= eyr <= 2030)\n",
    "    )"
   ]
  },
  {
   "cell_type": "code",
   "execution_count": 83,
   "metadata": {},
   "outputs": [],
   "source": [
    "def hgt_test(hgt):\n",
    "    find_cm = hgt.find('cm')\n",
    "    find_in = hgt.find('in')\n",
    "    \n",
    "    if (find_cm == -1) & (find_in == -1):\n",
    "        return False\n",
    "    elif find_cm != -1:\n",
    "        try:\n",
    "            return (150 <= int(hgt[:find_cm]) <= 193)\n",
    "        except:\n",
    "            return False\n",
    "    else:\n",
    "        try:\n",
    "            return (59 <= int(hgt[:find_in]) <= 76)\n",
    "        except:\n",
    "            return False"
   ]
  },
  {
   "cell_type": "code",
   "execution_count": 133,
   "metadata": {},
   "outputs": [],
   "source": [
    "def hcl_test(hcl):\n",
    "    valid_chars = 'abcdef0123456789'\n",
    "    \n",
    "    if (hcl[0] == '#') & (len(hcl[1:]) == 6) & all((char in valid_chars) for char in hcl[1:]):\n",
    "        return True\n",
    "    else:\n",
    "        return False"
   ]
  },
  {
   "cell_type": "code",
   "execution_count": 137,
   "metadata": {},
   "outputs": [],
   "source": [
    "def ecl_test(ecl):\n",
    "    valids = list('amb blu brn gry grn hzl oth'.split(' '))\n",
    "    \n",
    "    for valid in valids:\n",
    "        if ecl == valid:\n",
    "            return True\n",
    "    return False"
   ]
  },
  {
   "cell_type": "code",
   "execution_count": 158,
   "metadata": {},
   "outputs": [],
   "source": [
    "def pid_test(pid):\n",
    "    \n",
    "    try:\n",
    "        int(pid)\n",
    "    except:\n",
    "        return False\n",
    "    else:\n",
    "        if len(str(pid)) == 9:\n",
    "            return True"
   ]
  }
 ],
 "metadata": {
  "kernelspec": {
   "display_name": "ml",
   "language": "python",
   "name": "ml"
  },
  "language_info": {
   "codemirror_mode": {
    "name": "ipython",
    "version": 3
   },
   "file_extension": ".py",
   "mimetype": "text/x-python",
   "name": "python",
   "nbconvert_exporter": "python",
   "pygments_lexer": "ipython3",
   "version": "3.8.5"
  }
 },
 "nbformat": 4,
 "nbformat_minor": 4
}
